{
 "cells": [
  {
   "cell_type": "markdown",
   "metadata": {},
   "source": [
    "# Base parser (Prepare the lidar video file)"
   ]
  },
  {
   "cell_type": "markdown",
   "metadata": {},
   "source": [
    "## Context table"
   ]
  },
  {
   "cell_type": "markdown",
   "metadata": {},
   "source": [
    "- Brief explanation\n",
    "- PandaSet dataset structure\n",
    "    - Dataset structure\n",
    "    - Json files structure\n",
    "- Imports (Customizable)\n",
    "- Get Dataloop dataset and remote path (On the Dataloop dataset)\n",
    "- Download data (Customizable)\n",
    "- Parse lidar data (Customizable)\n",
    "- Parse cameras data (Customizable)\n",
    "- Build lidar scene\n",
    "- Run\n",
    "- Cleanup"
   ]
  },
  {
   "cell_type": "markdown",
   "metadata": {},
   "source": [
    "## Brief explanation"
   ]
  },
  {
   "cell_type": "markdown",
   "metadata": {},
   "source": [
    "This notebook provides a converter for setting up a LiDAR scene on the Dataloop platform (Using [PandaSet](https://www.kaggle.com/datasets/usharengaraju/pandaset-dataset) as an example). \\\n",
    "The converter can be extended to support custom LiDAR scenes by modifying the available Customizable methods as needed.\n",
    "\n",
    "__Important Notes:__\n",
    "\n",
    "* __File Format Assumptions:__ \\\n",
    "  The converter assumes that the remote dataset already has PandaSet `.pkl` files converted into `.pcd` files for the point cloud data. For more details on why .pcd files are preferred, please refer to the [PCD file format documentation](https://pointclouds.org/documentation/tutorials/pcd_file_format.html).\n",
    "* __Conversion Scripts:__ \\\n",
    "  You can find helpful scripts for converting `.pkl` files to `.pcd` in the dtlpylidar/utilities/converters directory."
   ]
  },
  {
   "cell_type": "markdown",
   "metadata": {},
   "source": [
    "## PandaSet dataset structure"
   ]
  },
  {
   "cell_type": "markdown",
   "metadata": {},
   "source": [
    "### Dataset structure"
   ]
  },
  {
   "cell_type": "markdown",
   "metadata": {},
   "source": [
    "The PandaSet scene folder structure:\n",
    "* `lidar`:\n",
    "  * Point cloud files in `.pkl` format for each frame (must be converted to `.pcd` format).\n",
    "  * `poses.json`– contains the poses for each frame.\n",
    "  * `timestamps.json` (optional) – includes timestamps for the frames.\n",
    "* `camera`:\n",
    "  * Per-camera sub-folder:\n",
    "    * Images for each frame.\n",
    "    * `intrinsics.json` – camera intrinsic parameters.\n",
    "    * `poses.json` – camera poses.\n",
    "    * `timestamps.json` (optional) – includes timestamps for the frames."
   ]
  },
  {
   "cell_type": "markdown",
   "metadata": {},
   "source": [
    "### Json files structure"
   ]
  },
  {
   "cell_type": "markdown",
   "metadata": {},
   "source": [
    "For a detailed explanation of the parameters in the JSON files, please refer to the [Camera Calibration Parameters](https://www.mathworks.com/help/vision/ug/camera-calibration.html#Camera_Calibration_Parameters:~:text=the%20intrinsics%20parameters.-,Camera%20Calibration%20Parameters,-The%20calibration%20algorithm)."
   ]
  },
  {
   "cell_type": "markdown",
   "metadata": {},
   "source": [
    "#### `poses.json` file strucutre (similar for lidar and cameras):"
   ]
  },
  {
   "cell_type": "markdown",
   "metadata": {},
   "source": [
    "Each object refer to a different frame."
   ]
  },
  {
   "cell_type": "markdown",
   "metadata": {},
   "source": [
    "```json\n",
    "[\n",
    "    {\"position\": {\"x\": 0.0, \"y\": 0.0, \"z\": 0.0}, \"heading\": {\"w\": 1.0, \"x\": 0.0, \"y\": 0.0, \"z\": 0.0}},  # PCD frame 0 extrinsics / Camera N frame 0 extrinsics\n",
    "    {\"position\": {\"x\": 0.5, \"y\": 0.5, \"z\": 0.0}, \"heading\": {\"w\": 1.0, \"x\": 0.0, \"y\": 0.0, \"z\": 0.0}}\n",
    "]\n",
    "```"
   ]
  },
  {
   "cell_type": "markdown",
   "metadata": {},
   "source": [
    "#### `intrinsics.json` file structure (for cameras):"
   ]
  },
  {
   "cell_type": "markdown",
   "metadata": {},
   "source": [
    "Each camera has static intrinsics calibrations across all its images."
   ]
  },
  {
   "cell_type": "markdown",
   "metadata": {},
   "source": [
    "```json\n",
    "{\"fx\": 933.4667, \"fy\": 934.6754, \"cx\": 896.4692, \"cy\": 507.3557}\n",
    "```"
   ]
  },
  {
   "cell_type": "markdown",
   "metadata": {},
   "source": [
    "#### `timestamps.json` file strucutre (similar for lidar and cameras):"
   ]
  },
  {
   "cell_type": "markdown",
   "metadata": {},
   "source": [
    "Each object refer to a different frame."
   ]
  },
  {
   "cell_type": "markdown",
   "metadata": {},
   "source": [
    "```json\n",
    "[\n",
    "    1557539924.49981,  # PCD frame 0 timestamp / Camera N frame 0 timestamp\n",
    "    1557539924.599788\n",
    "]\n",
    "```"
   ]
  },
  {
   "cell_type": "markdown",
   "metadata": {},
   "source": [
    "## Imports (Customizable)"
   ]
  },
  {
   "cell_type": "markdown",
   "metadata": {},
   "source": [
    "Here are the required libraries for parsing LiDAR scene data. \\\n",
    "Additional libraries may be added as needed to support custom scenes."
   ]
  },
  {
   "cell_type": "code",
   "execution_count": null,
   "metadata": {},
   "outputs": [],
   "source": [
    "!pip install jdc"
   ]
  },
  {
   "cell_type": "code",
   "execution_count": null,
   "metadata": {},
   "outputs": [],
   "source": [
    "import jdc\n",
    "import sys\n",
    "sys.path.append('../../')  # Add project root path\n",
    "\n",
    "from dtlpylidar.parser_base import extrinsic_calibrations\n",
    "from dtlpylidar.parser_base import images_and_pcds, camera_calibrations, lidar_frame, lidar_scene\n",
    "import dtlpy as dl\n",
    "import os\n",
    "import json\n",
    "import uuid\n",
    "import logging\n",
    "import shutil\n",
    "import pathlib\n",
    "\n",
    "logger = logging.Logger(name=\"lidar_base_parser\")"
   ]
  },
  {
   "cell_type": "markdown",
   "metadata": {},
   "source": [
    "## Get Dataloop dataset and remote path (On the Dataloop dataset)"
   ]
  },
  {
   "cell_type": "markdown",
   "metadata": {},
   "source": [
    "Retrieve the target Dataloop dataset to construct the LiDAR scene, along with the remote_path within the dataset where the LiDAR scene files are located."
   ]
  },
  {
   "cell_type": "code",
   "execution_count": null,
   "metadata": {},
   "outputs": [],
   "source": [
    "dataset_id = \"\"  # TODO: fill with dataset id\n",
    "dataset = dl.datasets.get(dataset_id=dataset_id)\n",
    "remote_path: str = \"\""
   ]
  },
  {
   "cell_type": "markdown",
   "metadata": {},
   "source": [
    "## Download data (Customizable)"
   ]
  },
  {
   "cell_type": "markdown",
   "metadata": {},
   "source": [
    "A method to specify the required binaries and JSON annotations that need to be downloaded for use in subsequent parsing functions."
   ]
  },
  {
   "cell_type": "code",
   "execution_count": null,
   "metadata": {},
   "outputs": [],
   "source": [
    "class LidarBaseParser(dl.BaseServiceRunner):\n",
    "    @staticmethod\n",
    "    def download_data(dataset: dl.Dataset, remote_path: str, download_path: str) -> tuple:\n",
    "        \"\"\"\n",
    "        Download the required data for the parser\n",
    "        :param dataset: Input dataset\n",
    "        :param remote_path: Path to the remote folder where the lidar data is uploaded\n",
    "        :param download_path: Path to the downloaded data\n",
    "        :return: (items_path, json_path) Paths to the downloaded items and annotations JSON files directories\n",
    "        \"\"\"\n",
    "        # Download items dataloop annotation JSONs\n",
    "        # (PCD and Image annotation JSONs contains the Dataloop platform references (Like: ID) to the remote files)\n",
    "        filters = dl.Filters(field=\"metadata.system.mimetype\", values=\"*pcd*\", method=dl.FiltersMethod.OR)\n",
    "        filters.add(field=\"metadata.system.mimetype\", values=\"*image*\", method=dl.FiltersMethod.OR)\n",
    "        dataset.download_annotations(local_path=download_path, filters=filters)\n",
    "\n",
    "        # Download required binaries (Calibrations Data)\n",
    "        # Pandaset Calibration Data is saved in JSON files (Like: poses.json, intrinsics.json, timestamps.json)\n",
    "        filters = dl.Filters(field=\"metadata.system.mimetype\", values=\"*json*\")\n",
    "        dataset.items.download(local_path=download_path, filters=filters)\n",
    "\n",
    "        items_path = os.path.join(download_path, \"items\", remote_path)\n",
    "        json_path = os.path.join(download_path, \"json\", remote_path)\n",
    "        return items_path, json_path"
   ]
  },
  {
   "cell_type": "code",
   "execution_count": null,
   "metadata": {},
   "outputs": [],
   "source": [
    "# Execute this code block if you want to download the data\n",
    "\n",
    "parser = LidarBaseParser()\n",
    "\n",
    "if remote_path.startswith(\"/\"):\n",
    "    remote_path = remote_path[1:]\n",
    "\n",
    "if remote_path.endswith(\"/\"):\n",
    "    remote_path = remote_path[:-1]\n",
    "\n",
    "download_path = os.path.join(os.getcwd(), dataset.name)\n",
    "\n",
    "items_path, json_path = parser.download_data(\n",
    "    dataset=dataset,\n",
    "    remote_path=remote_path,\n",
    "    download_path=download_path,\n",
    ")\n",
    "print(items_path + \"\\n\" + json_path)"
   ]
  },
  {
   "cell_type": "markdown",
   "metadata": {},
   "source": [
    "## Parse lidar data (Customizable)"
   ]
  },
  {
   "cell_type": "markdown",
   "metadata": {},
   "source": [
    "A method to parse LiDAR sensor data from the downloaded files\n",
    "(Extrinsic and Timestamps).\n",
    "\n",
    "* `images_and_pcds.LidarPcdData` - A class that encapsulates LiDAR sensor calibration information for PCD files in the 3D scene (per frame). \n",
    "\n",
    "`Notice:` This class later get converted into json formant, and get added to the `frames.json` file."
   ]
  },
  {
   "cell_type": "code",
   "execution_count": null,
   "metadata": {},
   "outputs": [],
   "source": [
    "%%add_to LidarBaseParser\n",
    "@staticmethod\n",
    "def parse_lidar_data(items_path: str, json_path: str) -> dict:\n",
    "    \"\"\"\n",
    "    Parse the lidar calibration data to build all the scene LidarPcdData objects\n",
    "    :param items_path: Paths to the downloaded items directory\n",
    "    :param json_path: Paths to the downloaded annotations JSON files directory\n",
    "    :return: lidar_data: Dictionary containing mapping of frame number to LidarPcdData object\n",
    "    \"\"\"\n",
    "    lidar_data = dict()\n",
    "\n",
    "    lidar_json_path = os.path.join(json_path, \"lidar\")\n",
    "    lidar_items_path = os.path.join(items_path, \"lidar\")\n",
    "\n",
    "    # Opening the poses.json file to get the Extrinsic (Translation and Rotation) of the Lidar Scene per frame\n",
    "    poses_json = os.path.join(lidar_items_path, \"poses.json\")\n",
    "    with open(poses_json, 'r') as f:\n",
    "        poses_json_data: list = json.load(f)\n",
    "\n",
    "    # Opening the poses.json file to get the Timestamps of the Lidar Scene per frame\n",
    "    timestamps_json = os.path.join(lidar_items_path, \"timestamps.json\")\n",
    "    with open(timestamps_json, 'r') as f:\n",
    "        timestamps_json_data: list = json.load(f)\n",
    "\n",
    "    # Get all the lidar JSONs sorted by frame number\n",
    "    lidar_jsons = pathlib.Path(lidar_json_path).rglob('*.json')\n",
    "    lidar_jsons = sorted(lidar_jsons, key=lambda x: int(x.stem))\n",
    "\n",
    "    for lidar_frame_idx, lidar_json in enumerate(lidar_jsons):\n",
    "        with open(lidar_json, 'r') as f:\n",
    "            lidar_json_data = json.load(f)\n",
    "\n",
    "        ground_map_id = lidar_json_data.get(\"metadata\", dict()).get(\"user\", dict()).get(\n",
    "            \"lidar_ground_detection\", dict()).get(\"groundMapId\", None)\n",
    "        lidar_translation = extrinsic_calibrations.Translation(\n",
    "            x=poses_json_data[lidar_frame_idx].get(\"position\", dict()).get(\"x\", 0),\n",
    "            y=poses_json_data[lidar_frame_idx].get(\"position\", dict()).get(\"y\", 0),\n",
    "            z=poses_json_data[lidar_frame_idx].get(\"position\", dict()).get(\"z\", 0),\n",
    "        )\n",
    "        lidar_rotation = extrinsic_calibrations.QuaternionRotation(\n",
    "            x=poses_json_data[lidar_frame_idx].get(\"heading\", dict()).get(\"x\", 0),\n",
    "            y=poses_json_data[lidar_frame_idx].get(\"heading\", dict()).get(\"y\", 0),\n",
    "            z=poses_json_data[lidar_frame_idx].get(\"heading\", dict()).get(\"z\", 0),\n",
    "            w=poses_json_data[lidar_frame_idx].get(\"heading\", dict()).get(\"w\", 1)\n",
    "        )\n",
    "        lidar_timestamp = str(timestamps_json_data[lidar_frame_idx])\n",
    "\n",
    "        lidar_pcd_data = images_and_pcds.LidarPcdData(\n",
    "            item_id=lidar_json_data.get(\"id\"),\n",
    "            ground_id=ground_map_id,\n",
    "            remote_path=lidar_json_data.get(\"filename\"),\n",
    "            extrinsic=extrinsic_calibrations.Extrinsic(\n",
    "                rotation=lidar_rotation,\n",
    "                translation=lidar_translation\n",
    "            ),\n",
    "            timestamp=lidar_timestamp\n",
    "        )\n",
    "        lidar_data[lidar_frame_idx] = lidar_pcd_data\n",
    "\n",
    "    return lidar_data"
   ]
  },
  {
   "cell_type": "code",
   "execution_count": null,
   "metadata": {},
   "outputs": [],
   "source": [
    "# Execute this code block if you want to see the parsed lidar data\n",
    "\n",
    "parser = LidarBaseParser()\n",
    "\n",
    "lidar_data = parser.parse_lidar_data(items_path=items_path, json_path=json_path)\n",
    "print(lidar_data)"
   ]
  },
  {
   "cell_type": "markdown",
   "metadata": {},
   "source": [
    "## Parse cameras data (Customizable)"
   ]
  },
  {
   "cell_type": "markdown",
   "metadata": {},
   "source": [
    "A method to parse camera data from all available downloaded files\n",
    "(Intrinsic, Extrinsic, Timestamps and Distortion).\n",
    "\n",
    "* `images_and_pcds.LidarCameraData` - A class that stores camera calibration information required to position a camera object in the 3D scene (per frame, per camera). \\\n",
    "* `images_and_pcds.LidarImageData` - A class extending `images_and_pcds.LidarCameraData` by associating a 2D image with the camera object in the 3D scene (per frame, per camera).\n",
    "\n",
    "`Notice:` This classes later get converted into json formant, and get added to the `frames.json` file."
   ]
  },
  {
   "cell_type": "code",
   "execution_count": null,
   "metadata": {},
   "outputs": [],
   "source": [
    "%%add_to LidarBaseParser\n",
    "@staticmethod\n",
    "def parse_cameras_data(items_path: str, json_path: str) -> dict:\n",
    "    \"\"\"\n",
    "    Parse the Cameras Calibration data to build all the scene LidarCameraData and LidarImageData objects\n",
    "    :param items_path: Paths to the downloaded items directory\n",
    "    :param json_path: Paths to the downloaded annotations JSON files directory\n",
    "    :return: lidar_data: Dictionary containing mapping of camera and frame number\n",
    "    to LidarCameraData and LidarImageData objects\n",
    "    \"\"\"\n",
    "    cameras_data = dict()\n",
    "\n",
    "    camera_json_path = os.path.join(json_path, \"camera\")\n",
    "    camera_items_path = os.path.join(items_path, \"camera\")\n",
    "\n",
    "    # Get the list of all the available camera folders, and building the cameras data objects per camera per frame\n",
    "    camera_folders_list = sorted(os.listdir(camera_json_path))\n",
    "    for camera_folder_idx, camera_folder in enumerate(camera_folders_list):\n",
    "        cameras_data[camera_folder] = dict()\n",
    "\n",
    "        camera_folder_json_path = os.path.join(camera_json_path, camera_folder)\n",
    "        camera_folder_items_path = os.path.join(camera_items_path, camera_folder)\n",
    "\n",
    "        # Opening the intrinsics.json file to get the Intrinsics (fx, fy, cx, cy) of the Current Camera per frame\n",
    "        intrinsics_json = os.path.join(camera_folder_items_path, \"intrinsics.json\")\n",
    "        with open(intrinsics_json, 'r') as f:\n",
    "            intrinsics_json_data: dict = json.load(f)\n",
    "\n",
    "        # Opening the poses.json file to get the Extrinsic (Translation and Rotation) of the Current Camera per frame\n",
    "        poses_json = os.path.join(camera_folder_items_path, \"poses.json\")\n",
    "        with open(poses_json, 'r') as f:\n",
    "            poses_json_data: list = json.load(f)\n",
    "\n",
    "        # Opening the poses.json file to get the Timestamps of the Current Camera per frame\n",
    "        timestamps_json = os.path.join(camera_folder_items_path, \"timestamps.json\")\n",
    "        with open(timestamps_json, 'r') as f:\n",
    "            timestamps_json_data: list = json.load(f)\n",
    "\n",
    "        # Get all the camera JSONs sorted by frame number\n",
    "        camera_jsons = pathlib.Path(camera_folder_json_path).rglob('*.json')\n",
    "        camera_jsons = sorted(camera_jsons, key=lambda x: int(x.stem))\n",
    "\n",
    "        for camera_frame_idx, camera_json in enumerate(camera_jsons):\n",
    "            with open(camera_json, 'r') as f:\n",
    "                camera_json_data = json.load(f)\n",
    "\n",
    "            camera_id = f\"{camera_folder}_frame_{camera_frame_idx}\"\n",
    "            camera_intrinsic = camera_calibrations.Intrinsic(\n",
    "                fx=intrinsics_json_data.get(\"fx\", 0),\n",
    "                fy=intrinsics_json_data.get(\"fy\", 0),\n",
    "                cx=intrinsics_json_data.get(\"cx\", 0),\n",
    "                cy=intrinsics_json_data.get(\"cy\", 0)\n",
    "            )\n",
    "            camera_rotation = extrinsic_calibrations.QuaternionRotation(\n",
    "                x=poses_json_data[camera_frame_idx].get(\"heading\", dict()).get(\"x\", 0),\n",
    "                y=poses_json_data[camera_frame_idx].get(\"heading\", dict()).get(\"y\", 0),\n",
    "                z=poses_json_data[camera_frame_idx].get(\"heading\", dict()).get(\"z\", 0),\n",
    "                w=poses_json_data[camera_frame_idx].get(\"heading\", dict()).get(\"w\", 1)\n",
    "            )\n",
    "            camera_translation = extrinsic_calibrations.Translation(\n",
    "                x=poses_json_data[camera_frame_idx].get(\"position\", dict()).get(\"x\", 0),\n",
    "                y=poses_json_data[camera_frame_idx].get(\"position\", dict()).get(\"y\", 0),\n",
    "                z=poses_json_data[camera_frame_idx].get(\"position\", dict()).get(\"z\", 0)\n",
    "            )\n",
    "            camera_distortion = camera_calibrations.Distortion(\n",
    "                k1=0,\n",
    "                k2=0,\n",
    "                k3=0,\n",
    "                p1=0,\n",
    "                p2=0\n",
    "            )\n",
    "            camera_timestamp = str(timestamps_json_data[camera_frame_idx])\n",
    "\n",
    "            lidar_camera_data = camera_calibrations.LidarCameraData(\n",
    "                intrinsic=camera_intrinsic,\n",
    "                extrinsic=extrinsic_calibrations.Extrinsic(\n",
    "                    rotation=camera_rotation,\n",
    "                    translation=camera_translation\n",
    "                ),\n",
    "                channel=camera_json_data.get(\"filename\"),\n",
    "                distortion=camera_distortion,\n",
    "                cam_id=camera_id,\n",
    "            )\n",
    "\n",
    "            lidar_image_data = images_and_pcds.LidarImageData(\n",
    "                item_id=camera_json_data.get(\"id\"),\n",
    "                lidar_camera=lidar_camera_data,\n",
    "                remote_path=camera_json_data.get(\"filename\"),\n",
    "                timestamp=camera_timestamp\n",
    "            )\n",
    "\n",
    "            cameras_data[camera_folder][camera_frame_idx] = {\n",
    "                \"lidar_camera\": lidar_camera_data,\n",
    "                \"lidar_image\": lidar_image_data\n",
    "            }\n",
    "\n",
    "    return cameras_data"
   ]
  },
  {
   "cell_type": "code",
   "execution_count": null,
   "metadata": {},
   "outputs": [],
   "source": [
    "# Execute this code block if you want to see the parsed cameras data\n",
    "\n",
    "parser = LidarBaseParser()\n",
    "\n",
    "cameras_data = parser.parse_cameras_data(items_path=items_path, json_path=json_path)\n",
    "print(cameras_data)"
   ]
  },
  {
   "cell_type": "markdown",
   "metadata": {},
   "source": [
    "## Build lidar scene"
   ]
  },
  {
   "cell_type": "markdown",
   "metadata": {},
   "source": [
    "A method to combine the `lidar_data` and `cameras_data` to construct the `frames.json` file, which represents a LiDAR video containing all point cloud and image files seamlessly integrated. Each frame includes the following information:\n",
    "\n",
    "1. `PCD file:` The point cloud data of the 3D scene for the given frame.\n",
    "2. `JPEG/PNG files:` The images of the available cameras for the given frame.\n",
    "\n",
    "This integration ensures that each frame is a complete representation of the scene, combining LiDAR and camera data for synchronized analysis."
   ]
  },
  {
   "cell_type": "code",
   "execution_count": null,
   "metadata": {},
   "outputs": [],
   "source": [
    "%%add_to LidarBaseParser\n",
    "@staticmethod\n",
    "def build_lidar_scene(lidar_data: dict, cameras_data: dict):\n",
    "    \"\"\"\n",
    "    Merge the all the object of lidar_data and cameras_data to build the LidarScene object that will be uploaded as\n",
    "    the frames.json item\n",
    "    :return: scene_data: LidarScene data as JSON that will to be uploaded to the dataloop platform as\n",
    "    the frames.json item\n",
    "    \"\"\"\n",
    "    scene = lidar_scene.LidarScene()\n",
    "    frames_number = len(lidar_data)\n",
    "    for frame_number in range(frames_number):\n",
    "        logger.info(f\"Processing PCD data [Frame: {frame_number}]\")\n",
    "        frame_lidar_pcd_data = lidar_data[frame_number]\n",
    "        lidar_frame_images = list()\n",
    "\n",
    "        for camera_idx, (camera_folder, camera_data) in enumerate(cameras_data.items()):\n",
    "            logger.info(f\"Processing Camera data [Frame: {frame_number}, Camera Index: {camera_idx}]\")\n",
    "            frame_lidar_camera_data = camera_data.get(frame_number, dict()).get(\"lidar_camera\", None)\n",
    "            frame_lidar_image_data = camera_data.get(frame_number, dict()).get(\"lidar_image\", None)\n",
    "\n",
    "            if frame_lidar_camera_data is None or frame_lidar_image_data is None:\n",
    "                continue\n",
    "\n",
    "            scene.add_camera(frame_lidar_camera_data)\n",
    "            lidar_frame_images.append(frame_lidar_image_data)\n",
    "\n",
    "        lidar_scene_frame = lidar_frame.LidarSceneFrame(\n",
    "            lidar_frame_pcd=frame_lidar_pcd_data,\n",
    "            lidar_frame_images=lidar_frame_images\n",
    "        )\n",
    "        scene.add_frame(lidar_scene_frame)\n",
    "\n",
    "    scene_data = scene.to_json()\n",
    "    return scene_data"
   ]
  },
  {
   "cell_type": "code",
   "execution_count": null,
   "metadata": {},
   "outputs": [],
   "source": [
    "# Execute this code block if you want to see the scene data (before it later gets uploaded as frames.json to the Dataloop platform)\n",
    "\n",
    "parser = LidarBaseParser()\n",
    "\n",
    "scene_data = parser.build_lidar_scene(lidar_data=lidar_data, cameras_data=cameras_data)\n",
    "print(scene_data)"
   ]
  },
  {
   "cell_type": "markdown",
   "metadata": {},
   "source": [
    "## Run"
   ]
  },
  {
   "cell_type": "markdown",
   "metadata": {},
   "source": [
    "A method to execute the parser to process a dataset containing LiDAR data, using all the above functions, and upload the resulting `frames.json` file."
   ]
  },
  {
   "cell_type": "code",
   "execution_count": null,
   "metadata": {},
   "outputs": [],
   "source": [
    "%%add_to LidarBaseParser\n",
    "def run(self, dataset: dl.Dataset, remote_path: str = \"/\"):\n",
    "        \"\"\"\n",
    "        Run the parser\n",
    "        :param dataset: Input dataset\n",
    "        :param remote_path: Path to the remote folder where the Lidar data is uploaded\n",
    "        :return: frames_item: dl.Item entity of the uploaded frames.json\n",
    "        \"\"\"\n",
    "        if remote_path.startswith(\"/\"):\n",
    "            remote_path = remote_path[1:]\n",
    "\n",
    "        if remote_path.endswith(\"/\"):\n",
    "            remote_path = remote_path[:-1]\n",
    "\n",
    "        base_path = f\"{dataset.name}_{str(uuid.uuid4())}\"\n",
    "        download_path = os.path.join(os.getcwd(), base_path)\n",
    "        try:\n",
    "            items_path, json_path = self.download_data(\n",
    "                dataset=dataset,\n",
    "                remote_path=remote_path,\n",
    "                download_path=download_path\n",
    "            )\n",
    "\n",
    "            lidar_data = self.parse_lidar_data(items_path=items_path, json_path=json_path)\n",
    "            cameras_data = self.parse_cameras_data(items_path=items_path, json_path=json_path)\n",
    "            scene_data = self.build_lidar_scene(lidar_data=lidar_data, cameras_data=cameras_data)\n",
    "\n",
    "            frames_item = dataset.items.upload(\n",
    "                remote_name=\"frames.json\",\n",
    "                remote_path=f\"/{remote_path}\",\n",
    "                local_path=json.dumps(scene_data).encode(),\n",
    "                overwrite=True,\n",
    "                item_metadata={\n",
    "                    \"system\": {\n",
    "                        \"shebang\": {\n",
    "                            \"dltype\": \"PCDFrames\"\n",
    "                        }\n",
    "                    },\n",
    "                    \"fps\": 1\n",
    "                }\n",
    "            )\n",
    "        finally:\n",
    "            shutil.rmtree(path=download_path, ignore_errors=True)\n",
    "\n",
    "        return frames_item"
   ]
  },
  {
   "cell_type": "code",
   "execution_count": null,
   "metadata": {},
   "outputs": [],
   "source": [
    "# Execute this code block if you want to generate and upload the scene data as frames.json to the Dataloop platform.\n",
    "\n",
    "parser = LidarBaseParser()\n",
    "\n",
    "frames_item = parser.run(dataset=dataset, remote_path=remote_path)\n",
    "print(frames_item)\n",
    "frames_item.open_in_web()"
   ]
  },
  {
   "cell_type": "markdown",
   "metadata": {},
   "source": [
    "## Cleanup"
   ]
  },
  {
   "cell_type": "markdown",
   "metadata": {},
   "source": [
    "Delete the directory with all the downloaded files."
   ]
  },
  {
   "cell_type": "code",
   "execution_count": null,
   "metadata": {},
   "outputs": [],
   "source": [
    "shutil.rmtree(path=download_path, ignore_errors=True)"
   ]
  }
 ],
 "metadata": {
  "kernelspec": {
   "display_name": "venv",
   "language": "python",
   "name": "python3"
  },
  "language_info": {
   "codemirror_mode": {
    "name": "ipython",
    "version": 3
   },
   "file_extension": ".py",
   "mimetype": "text/x-python",
   "name": "python",
   "nbconvert_exporter": "python",
   "pygments_lexer": "ipython3",
   "version": "3.9.13"
  }
 },
 "nbformat": 4,
 "nbformat_minor": 2
}
