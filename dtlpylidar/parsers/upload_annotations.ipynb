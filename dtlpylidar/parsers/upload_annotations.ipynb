{
 "cells": [
  {
   "cell_type": "markdown",
   "metadata": {},
   "source": [
    "# Upload annotations"
   ]
  },
  {
   "cell_type": "markdown",
   "metadata": {},
   "source": [
    "## Context table"
   ]
  },
  {
   "cell_type": "markdown",
   "metadata": {},
   "source": [
    "- Brief explanation\n",
    "- Imports\n",
    "- Get Dataloop frames item\n",
    "- Cuboid annotation"
   ]
  },
  {
   "cell_type": "markdown",
   "metadata": {},
   "source": [
    "## Brief explanation"
   ]
  },
  {
   "cell_type": "markdown",
   "metadata": {},
   "source": [
    "This notebook provides an annotations converter for uploading annotations to an existing LiDAR video file (`frames.json`) on the Dataloop platform."
   ]
  },
  {
   "cell_type": "markdown",
   "metadata": {},
   "source": [
    "## Imports"
   ]
  },
  {
   "cell_type": "code",
   "execution_count": null,
   "metadata": {},
   "outputs": [],
   "source": [
    "import dtlpy as dl\n",
    "from scipy.spatial.transform import Rotation"
   ]
  },
  {
   "cell_type": "markdown",
   "metadata": {},
   "source": [
    "## Get Dataloop frames item"
   ]
  },
  {
   "cell_type": "markdown",
   "metadata": {},
   "source": [
    "Retrieve the target `frames.json` item to which the annotations will be uploaded."
   ]
  },
  {
   "cell_type": "code",
   "execution_count": null,
   "metadata": {},
   "outputs": [],
   "source": [
    "item_id = \"\"  # TODO: frames.json Item Id on the requested dataset\n",
    "frames_item = dl.items.get(item_id=item_id)"
   ]
  },
  {
   "cell_type": "markdown",
   "metadata": {},
   "source": [
    "## Cuboid annotation"
   ]
  },
  {
   "cell_type": "code",
   "execution_count": null,
   "metadata": {},
   "outputs": [],
   "source": [
    "# 1. Create annotations builder\n",
    "builder = frames_item.annotations.builder()\n",
    "\n",
    "# 2. Define the Cube 3D calibrations data\n",
    "label = \"Car\"  # Annotation Label\n",
    "position = [\n",
    "  0.0,  # Position X Coordinate\n",
    "  0.0,  # Position Y Coordinate\n",
    "  0.0,  # Position Z Coordinate\n",
    "]\n",
    "scale = [\n",
    "    1.0,  # Scale of X Dimension\n",
    "    1.0,  # Scale of Y Dimension\n",
    "    1.0,  # Scale of Z Dimension\n",
    "]\n",
    "rotation = Rotation.from_quat([\n",
    "    0.0,  # Quaternion X Coordinate\n",
    "    0.0,  # Quaternion Y Coordinate\n",
    "    0.0,  # Quaternion Z Coordinate\n",
    "    1.0,  # Quaternion W Coordinate\n",
    "]).as_euler(\n",
    "    seq=\"xyz\", \n",
    "    degrees=False\n",
    ")\n",
    "attributes = {\"onRoad\": True}  # Annotation Attributes\n",
    "description = \"Car on road\"  # Annotation Description\n",
    "annotation_definition = dl.Cube3d(\n",
    "    label=label,\n",
    "    position=position,\n",
    "    scale=scale,\n",
    "    rotation=rotation,\n",
    "    attributes=attributes,\n",
    "    description=description\n",
    ")\n",
    "\n",
    "# 3. Define the Cube 3D Annotation final parameters and upload it to the lidar scene\n",
    "frame_num = 0\n",
    "end_frame_num = 1\n",
    "object_id = \"0\"\n",
    "metadata = {\"user\": {\"Car\": \"onRoad\"}}\n",
    "builder.add(\n",
    "    annotation_definition=annotation_definition,\n",
    "    frame_num=frame_num,\n",
    "    end_frame_num=end_frame_num,\n",
    "    object_id=object_id,\n",
    "    metadata=metadata\n",
    ")\n",
    "builder.upload()"
   ]
  }
 ],
 "metadata": {
  "kernelspec": {
   "display_name": "venv",
   "language": "python",
   "name": "python3"
  },
  "language_info": {
   "codemirror_mode": {
    "name": "ipython",
    "version": 3
   },
   "file_extension": ".py",
   "mimetype": "text/x-python",
   "name": "python",
   "nbconvert_exporter": "python",
   "pygments_lexer": "ipython3",
   "version": "3.9.13"
  }
 },
 "nbformat": 4,
 "nbformat_minor": 2
}
